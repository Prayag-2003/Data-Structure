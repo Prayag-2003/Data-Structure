{
  "nbformat": 4,
  "nbformat_minor": 0,
  "metadata": {
    "colab": {
      "provenance": []
    },
    "kernelspec": {
      "name": "python3",
      "display_name": "Python 3"
    },
    "language_info": {
      "name": "python"
    }
  },
  "cells": [
    {
      "cell_type": "markdown",
      "source": [
        "THEORY QUESTIONS"
      ],
      "metadata": {
        "id": "O-f1pDGoRqW7"
      }
    },
    {
      "cell_type": "markdown",
      "source": [
        "1. What are data structures, and why are they important?\n",
        " - Data structures play a pivotal role in computer science and programming, as they are essential for storing,\n",
        "organizing, and manipulating data efficiently.\n",
        " - Python, a versatile and popular programming language, provides a wide array of data structures to accommodate various needs.\n",
        " - Data Handling: Programming often involves working with data, which can be numbers, text, or more complex information. Data structures are like specialized containers that help us manage this data efficiently.\n",
        " - Organization: Just as you use different shelves, drawers, and containers at home to organize various items, in programming, you use different data structures to organize different types of data.\n",
        " - Efficiency: The choice of data structure can significantly impact how quickly you can access, manipulate, and process your data. Picking the right data structure is crucial for writing efficient code.\n",
        " - Flexibility: Different data structures serve different purposes. Some are great for storing lots of data, while others are optimized for quick searches or data retrieval.\n",
        " - Built-in Tools: Python provides a rich set of built-in data structures that make it easier for programmers to handle common data management tasks without having to build everything from scratch.\n",
        " - Real-World Analogy: You can think of data structures as tools in your toolbox. For example, if you want to organize your books, you might use a bookshelf (analogous to a list). If you want to store unique items,\n",
        "like a collection of rare coins, you'd use a display case (analogous to a set).\n",
        " - Custom Data Structures: In addition to built-in data structures, Python allows you to create custom data structures to suit your specific needs. This is akin to crafting your own unique container for a particular\n",
        "purpose."
      ],
      "metadata": {
        "id": "KDLSRpQ38N9Z"
      }
    },
    {
      "cell_type": "markdown",
      "source": [
        "2. Explain the difference between mutable and immutable data types with examples?\n",
        " - Immutable data types cannot be changed after they are created. Any operation that seems to modify them will actually create a new object.\n",
        " eg: Strings, Tuples, Booleans\n",
        " - Mutable data types can be changed after they are created. You can modify their content without changing their identity.\n",
        "eg: Lists, Dictionaries, Sets\n",
        "\n"
      ],
      "metadata": {
        "id": "A1ECLdxY9bjz"
      }
    },
    {
      "cell_type": "markdown",
      "source": [
        "3. What are the main differences between lists and tuples in Python?\n",
        " - Lists:\n",
        "* Lists are mutable. We can change, add, or remove elements.\n",
        "* Lists are better when the data needs to change,\n",
        "* Square brackets []\n",
        "* Uses methods like .append(), .remove(), .pop(), .sort(), etc.\n",
        " - Tuple:\n",
        "* Tupples are immutable. Once created, you cannot modify its contents.\n",
        "* Tuples are used when data must not change.  \n",
        "* Parentheses () or just commas.\n",
        "* Uses methods like .count() and .index().\n",
        "\n",
        "\n",
        "\n",
        "\n",
        "\n"
      ],
      "metadata": {
        "id": "oYA781xuBZy2"
      }
    },
    {
      "cell_type": "markdown",
      "source": [
        "4. Describe how dictionaries store data?\n",
        " - Dictionary comprehensions are a concise way to create dictionaries in Python by employing a compact and\n",
        "expressive syntax.\n",
        " - They allow you to create dictionaries using a single line of code by iterating over an iterable (like lists, tuples,\n",
        "or other dictionaries) and generating key-value pairs.\n",
        " - This construct is similar to list comprehensions but produces dictionaries instead of lists.\n",
        " - In Python, the basic syntax of dictionary comprehension involves enclosing an expression within curly braces{}, where each expression generates a key-value pair separated by a colon :.\n",
        " - This is followed by an iterable and an iteration variable, often expressed within square brackets [] or parentheses ().\n",
        " - The syntax typically follows this structure: {key: value for element in iterable}."
      ],
      "metadata": {
        "id": "RU3SBsyAFFTn"
      }
    },
    {
      "cell_type": "markdown",
      "source": [
        "5. Why might you use a set instead of a list in Python?\n",
        " - You need only unique elements (no duplicates).\n",
        " - You want faster membership checks (x in set is faster than x in list).\n",
        " - You need to perform set operations like union, intersection, or difference.\n",
        ""
      ],
      "metadata": {
        "id": "Pg2S_czAGtdn"
      }
    },
    {
      "cell_type": "markdown",
      "source": [
        "6. What is a string in Python, and how is it different from a list?\n",
        " - A string is a sequence of characters, while a list is a sequence that can contain any data type, including numbers, strings, or even other lists.\n",
        " - Strings are immutable, meaning you cannot change their contents after creation. On the other hand, lists are mutable, so you can modify, add, or remove elements.\n",
        " - In a string, each element is a character, but in a list, elements can be of mixed types."
      ],
      "metadata": {
        "id": "U3XacfnbIKtM"
      }
    },
    {
      "cell_type": "markdown",
      "source": [
        "7. How do tuples ensure data integrity in Python?\n",
        " - Tuples help ensure data integrity in Python by being immutable, meaning their contents cannot be changed after creation."
      ],
      "metadata": {
        "id": "tyo65wdEI2gX"
      }
    },
    {
      "cell_type": "markdown",
      "source": [
        "8. What is a hash table, and how does it relate to dictionaries in Python?\n",
        " - A hash table is a data structure that stores data in key-value pairs and allows for fast access using a hash function. It works by converting each key into a unique integer (called a hash value) using Python’s built-in hash() function. This hash value determines where the data is stored in memory.\n",
        " - In Python, dictionaries are implemented using hash tables. When you add a key to a dictionary, Python calculates its hash value and uses it to find a position in an internal array where the key and its corresponding value are stored.\n",
        " - Because of this, dictionary operations like adding, deleting, or retrieving data are very fast. However, for this system to work properly, the keys used in a dictionary must be immutable, such as strings, numbers, or tuples, so their hash values don't change."
      ],
      "metadata": {
        "id": "1A3KuZfcJSVw"
      }
    },
    {
      "cell_type": "markdown",
      "source": [
        "9. Can lists contain different data types in Python?\n",
        " - Yes, lists in Python can contain different data types.\n",
        " - We can store integers, floats, strings, booleans, lists, tuples, and even custom objects all in the same list."
      ],
      "metadata": {
        "id": "TeQ5oqadJ9X-"
      }
    },
    {
      "cell_type": "markdown",
      "source": [
        "10. Explain why strings are immutable in Python.\n",
        " - Strings are immutable in Python because once a string is created, its contents cannot be changed. This design choice offers several benefits:\n",
        " 1. Data Safety:\n",
        "Immutability protects strings from accidental modification. This is useful when strings are shared across parts of a program — no function can alter the original string unexpectedly.\n",
        "\n",
        " 2. Performance:\n",
        "Because strings don't change, Python can reuse existing string objects in memory, which saves space and makes string operations faster (especially in large programs).\n",
        "\n",
        " 3. Hashability:\n",
        "Immutable objects like strings can be hashed, which is why strings can be used as dictionary keys or stored in sets. If strings were mutable, their hash values could change, leading to unpredictable behavior.\n",
        "\n"
      ],
      "metadata": {
        "id": "TBWnkQheKTT-"
      }
    },
    {
      "cell_type": "markdown",
      "source": [
        "11. What advantages do dictionaries offer over lists for certain tasks?\n",
        " - Dictionaries offer several advantages over lists for specific tasks in Python. One major benefit is fast lookup by key. In dictionaries, accessing a value using a key is very fast, while searching for an item in a list takes longer.\n",
        " - Dictionaries also allow the use of descriptive keys, which makes the code more readable and easier to understand compared to lists that rely on index positions."
      ],
      "metadata": {
        "id": "ySRLMD_6K0en"
      }
    },
    {
      "cell_type": "markdown",
      "source": [
        "12. Describe a scenario where using a tuple would be preferable over a list?\n",
        " - A tuple would be preferable over a list when you need to store fixed data that should not change throughout the program.\n",
        " - Storing geographic coordinates (latitude, longitude):\n",
        " - location = (12.9716, 77.5946)\n",
        " - In this case, using a tuple makes sense because:\n",
        " 1. The coordinates represent a fixed pair of values.\n",
        " 2. You don’t want them to be accidentally modified.\n",
        " 3. Tuples clearly indicate that the data is meant to be constant."
      ],
      "metadata": {
        "id": "Q6GxLYVXNGvo"
      }
    },
    {
      "cell_type": "markdown",
      "source": [
        "13. How do sets handle duplicate values in Python?\n",
        " - Sets do not allow duplicates. If you try to add a duplicate value, Python simply ignores it. This makes sets useful for tasks like removing duplicates from a list or checking for unique items.**bold text**"
      ],
      "metadata": {
        "id": "B2VDLcPWN4sT"
      }
    },
    {
      "cell_type": "markdown",
      "source": [
        "14. How does the “in” keyword work differently for lists and dictionaries?\n",
        " - In a list, in checks for a value in the elements.\n",
        " - In a dictionary, in checks for a key — not a value."
      ],
      "metadata": {
        "id": "jLEtRkbbOHs0"
      }
    },
    {
      "cell_type": "markdown",
      "source": [
        "15. Can you modify the elements of a tuple? Explain why or why not?\n",
        " - No, you cannot modify the elements of a tuple in Python because tuples are immutable. This means once a tuple is created, its contents cannot be changed — you can’t add, remove, or update elements.\n",
        " - Tuples are designed to store fixed and unchangeable data, which helps:\n",
        " - Ensure data integrity\n",
        " - Prevent accidental changes\n",
        " - Allow tuples to be used as dictionary keys or set elements"
      ],
      "metadata": {
        "id": "5dMd73nXOnBT"
      }
    },
    {
      "cell_type": "markdown",
      "source": [
        "16. What is a nested dictionary, and give an example of its use case?\n",
        " - A nested dictionary in Python is a dictionary inside another dictionary. It allows you to organize and store complex, structured data in a clear, hierarchical way.\n",
        " - students = {\n",
        "    \"101\": {\"name\": \"Aishwarya\", \"age\": 20, \"grade\": \"A\"},\n",
        "    \"102\": {\"name\": \"Prayag\", \"age\": 21, \"grade\": \"B\"},\n",
        "}\n",
        " - Here, each student ID (\"101\", \"102\") is a key, and the value is another dictionary holding that student’s details.\n",
        " Use cases:\n",
        " - Databases (like student records, user profiles, product catalogs)\n",
        " - Hierarchical relationships (e.g: company, departments, employees)"
      ],
      "metadata": {
        "id": "Ig24aXtcO7IZ"
      }
    },
    {
      "cell_type": "markdown",
      "source": [
        "17. Describe the time complexity of accessing elements in a dictionary.\n",
        " - Accessing an element in a dictionary using a key has an average time complexity of O(1) — meaning it takes constant time, no matter how many items are in the dictionary."
      ],
      "metadata": {
        "id": "jdxZoTqjQFXo"
      }
    },
    {
      "cell_type": "markdown",
      "source": [
        "18. In what situations are lists preferred over dictionaries?\n",
        " - Ordered Data: When you need to maintain the order of items.\n",
        " - No Key-Value Pairs Needed: When simple sequential data is enough.\n",
        " - Index-Based Access: When you want to access elements using positions (e.g., list[0]).\n",
        " - Slicing: When you need to extract sub-parts of the list easily (e.g., list[:3]).\n",
        "\n",
        " - Order Matters: When the sequence or position of elements is important.\n",
        "\n",
        " - Homogeneous Data: When you're storing similar types of data (e.g., all numbers or all strings).\n",
        "\n",
        " - Iterating in Order: When you want to loop through items in the order they were added."
      ],
      "metadata": {
        "id": "xgY5HQ-UQZBG"
      }
    },
    {
      "cell_type": "markdown",
      "source": [
        "19. Why are dictionaries considered unordered, and how does that affect data retrieval?\n",
        " - Dictionaries were originally considered unordered because they stored key-value pairs based on their hash values, not in the order they were added. This meant that when you iterated over a dictionary, the items could appear in any order, depending on how the hash table arranged them internally.\n",
        " - Key-based access (dict[key]) is not affected — it's always fast and direct, regardless of order."
      ],
      "metadata": {
        "id": "7lUYEZlPQ2hs"
      }
    },
    {
      "cell_type": "markdown",
      "source": [
        "20. Explain the difference between a list and a dictionary in terms of data retrieval.\n",
        "- List:\n",
        " - Access by index (position-based).\n",
        " - Uses integer positions starting from 0.\n",
        " - Time complexity for retrieval: O(1) (direct access by index).\n",
        "- Dictionary:\n",
        " - Access by key (key-based)\n",
        " - Uses unique, descriptive keys (e.g., strings)\n",
        " - Time complexity for retrieval: O(1) (average case, using hash lookup)"
      ],
      "metadata": {
        "id": "CWQP7lwPRNPo"
      }
    },
    {
      "cell_type": "markdown",
      "source": [
        "PRACTICAL QUESTIONS"
      ],
      "metadata": {
        "id": "UwpYgKeHRoqZ"
      }
    },
    {
      "cell_type": "code",
      "source": [
        "#1. Write a code to create a string with your name and print it.\n",
        "my_name = \"Prayag Singh\"\n",
        "print(\"My name is:\", my_name)"
      ],
      "metadata": {
        "colab": {
          "base_uri": "https://localhost:8080/"
        },
        "id": "ogbpP7vGR94Z",
        "outputId": "24c3fa9c-cfac-4df9-cbc8-7004e7fda0b4"
      },
      "execution_count": 1,
      "outputs": [
        {
          "output_type": "stream",
          "name": "stdout",
          "text": [
            "My name is: Prayag Singh\n"
          ]
        }
      ]
    },
    {
      "cell_type": "code",
      "source": [
        "#2. Write a code to find the length of the string \"Hello World\".\n",
        "string = \"Hello World\"\n",
        "length = len(string)\n",
        "print(\"The length of the string is:\", length)"
      ],
      "metadata": {
        "colab": {
          "base_uri": "https://localhost:8080/"
        },
        "id": "lkZrZEmqSK3R",
        "outputId": "092dfc2b-7903-484b-df22-5e5e64da0cce"
      },
      "execution_count": 2,
      "outputs": [
        {
          "output_type": "stream",
          "name": "stdout",
          "text": [
            "The length of the string is: 11\n"
          ]
        }
      ]
    },
    {
      "cell_type": "code",
      "source": [
        "#3. Write a code to slice the first 3 characters from the string \"Python Programming\".\n",
        "string = \"PW Skills\"\n",
        "sliced_string = string[:3]\n",
        "print(\"The sliced string is:\", sliced_string)"
      ],
      "metadata": {
        "colab": {
          "base_uri": "https://localhost:8080/"
        },
        "id": "N4hHwFSHSUya",
        "outputId": "6d498b5a-5aaf-4557-dce9-13a527cb1e43"
      },
      "execution_count": 3,
      "outputs": [
        {
          "output_type": "stream",
          "name": "stdout",
          "text": [
            "The sliced string is: PW \n"
          ]
        }
      ]
    },
    {
      "cell_type": "code",
      "source": [
        "#4. Write a code to convert the string \"hello\" to uppercase.\n",
        "string = \"hello\"\n",
        "uppercase_string = string.upper()\n",
        "print(\"The uppercase string is:\", uppercase_string)"
      ],
      "metadata": {
        "colab": {
          "base_uri": "https://localhost:8080/"
        },
        "id": "KhU6YKc8Sg4k",
        "outputId": "a5eecf6b-e519-4673-9e28-4700441a961e"
      },
      "execution_count": 4,
      "outputs": [
        {
          "output_type": "stream",
          "name": "stdout",
          "text": [
            "The uppercase string is: HELLO\n"
          ]
        }
      ]
    },
    {
      "cell_type": "code",
      "source": [
        "#5. Write a code to replace the word \"apple\" with \"orange\" in the string \"I like apple\".\n",
        "string = \"I like apple\"\n",
        "replaced_string = string.replace(\"apple\", \"orange\")\n",
        "print(\"The replaced string is:\", replaced_string)"
      ],
      "metadata": {
        "colab": {
          "base_uri": "https://localhost:8080/"
        },
        "id": "5ghEsrzqSoQA",
        "outputId": "be41769c-6ab2-4f53-bdcd-79e160137f01"
      },
      "execution_count": 5,
      "outputs": [
        {
          "output_type": "stream",
          "name": "stdout",
          "text": [
            "The replaced string is: I like orange\n"
          ]
        }
      ]
    },
    {
      "cell_type": "code",
      "source": [
        "#6. Write a code to create a list with numbers 1 to 5 and print it.\n",
        "my_list = [1, 2, 3, 4, 5]\n",
        "print(\"The list is:\", my_list)"
      ],
      "metadata": {
        "colab": {
          "base_uri": "https://localhost:8080/"
        },
        "id": "lKoGsGa5Swlb",
        "outputId": "8efec36c-77df-4b61-e8f5-b0d2d837502e"
      },
      "execution_count": 6,
      "outputs": [
        {
          "output_type": "stream",
          "name": "stdout",
          "text": [
            "The list is: [1, 2, 3, 4, 5]\n"
          ]
        }
      ]
    },
    {
      "cell_type": "code",
      "source": [
        "#7. Write a code to append the number 10 to the list [1, 2, 3, 4].\n",
        "my_list = [1, 2, 3, 4]\n",
        "my_list.append(10)\n",
        "print(\"The updated list is:\", my_list)"
      ],
      "metadata": {
        "colab": {
          "base_uri": "https://localhost:8080/"
        },
        "id": "Qah8NyY5S3Em",
        "outputId": "6c44f3bf-367a-4ec2-8d84-de51838d4c47"
      },
      "execution_count": 7,
      "outputs": [
        {
          "output_type": "stream",
          "name": "stdout",
          "text": [
            "The updated list is: [1, 2, 3, 4, 10]\n"
          ]
        }
      ]
    },
    {
      "cell_type": "code",
      "source": [
        "#8. Write a code to remove the number 3 from the list [1, 2, 3, 4, 5].\n",
        "my_list = [1, 2, 3, 4, 5]\n",
        "my_list.remove(3)\n",
        "print(\"The updated list is:\", my_list)"
      ],
      "metadata": {
        "colab": {
          "base_uri": "https://localhost:8080/"
        },
        "id": "UhRfPdx9S7ie",
        "outputId": "268abf5b-d7bb-4ce7-e2ad-d2df3fedaaa8"
      },
      "execution_count": 8,
      "outputs": [
        {
          "output_type": "stream",
          "name": "stdout",
          "text": [
            "The updated list is: [1, 2, 4, 5]\n"
          ]
        }
      ]
    },
    {
      "cell_type": "code",
      "source": [
        "#9. Write a code to access the second element in the list ['a', 'b', 'c', 'd'].\n",
        "my_list = ['a', 'b', 'c', 'd']\n",
        "second_element = my_list[1]\n",
        "print(\"The second element is:\", second_element)"
      ],
      "metadata": {
        "colab": {
          "base_uri": "https://localhost:8080/"
        },
        "id": "2PfVlbjHTDAV",
        "outputId": "fab2d40f-3e96-4c8e-f68d-589095ffd4d7"
      },
      "execution_count": 9,
      "outputs": [
        {
          "output_type": "stream",
          "name": "stdout",
          "text": [
            "The second element is: b\n"
          ]
        }
      ]
    },
    {
      "cell_type": "code",
      "source": [
        "#10. Write a code to reverse the list [10, 20, 30, 40, 50].\n",
        "my_list = [10, 20, 30, 40, 50]\n",
        "reversed_list = my_list[::-1]\n",
        "print(\"The reversed list is:\", reversed_list)"
      ],
      "metadata": {
        "colab": {
          "base_uri": "https://localhost:8080/"
        },
        "id": "yM9stYp3TJPO",
        "outputId": "ab4e4e72-63df-4df6-c87f-a9d2a2a5dba1"
      },
      "execution_count": 10,
      "outputs": [
        {
          "output_type": "stream",
          "name": "stdout",
          "text": [
            "The reversed list is: [50, 40, 30, 20, 10]\n"
          ]
        }
      ]
    },
    {
      "cell_type": "code",
      "source": [
        "#11. Write a code to create a tuple with the elements 100, 200, 300 and print it.\n",
        "my_tuple = (100, 200, 300)\n",
        "print(\"The tuple is:\", my_tuple)"
      ],
      "metadata": {
        "colab": {
          "base_uri": "https://localhost:8080/"
        },
        "id": "L-EH9WQNTPYN",
        "outputId": "252bb2d9-29c6-4504-b771-a559d7abf77e"
      },
      "execution_count": 11,
      "outputs": [
        {
          "output_type": "stream",
          "name": "stdout",
          "text": [
            "The tuple is: (100, 200, 300)\n"
          ]
        }
      ]
    },
    {
      "cell_type": "code",
      "source": [
        "#12. Write a code to access the second-to-last element of the tuple ('red', 'green', 'blue', 'yellow').\n",
        "my_tuple = ('red', 'green', 'blue', 'yellow')\n",
        "second_to_last_element = my_tuple[-2]\n",
        "print(\"The second-to-last element is:\", second_to_last_element)"
      ],
      "metadata": {
        "colab": {
          "base_uri": "https://localhost:8080/"
        },
        "id": "80_yKoRSTUu5",
        "outputId": "444fdace-7f4b-4930-84bc-bdb3b320d13e"
      },
      "execution_count": 12,
      "outputs": [
        {
          "output_type": "stream",
          "name": "stdout",
          "text": [
            "The second-to-last element is: blue\n"
          ]
        }
      ]
    },
    {
      "cell_type": "code",
      "source": [
        "#13. Write a code to find the minimum number in the tuple (10, 20, 5, 15).\n",
        "my_tuple = (10, 20, 5, 15)\n",
        "minimum_number = min(my_tuple)\n",
        "print(\"The minimum number is:\", minimum_number)"
      ],
      "metadata": {
        "colab": {
          "base_uri": "https://localhost:8080/"
        },
        "id": "SmjZE4ZWTc0Y",
        "outputId": "4be4e4db-acb2-4942-e15a-764454274e10"
      },
      "execution_count": 13,
      "outputs": [
        {
          "output_type": "stream",
          "name": "stdout",
          "text": [
            "The minimum number is: 5\n"
          ]
        }
      ]
    },
    {
      "cell_type": "code",
      "source": [
        "#14. Write a code to find the index of the element \"cat\" in the tuple ('dog', 'cat', 'rabbit').\n",
        "my_tuple = ('dog', 'cat', 'rabbit')\n",
        "index_of_cat = my_tuple.index('cat')\n",
        "print(\"The index of 'cat' is:\", index_of_cat)"
      ],
      "metadata": {
        "colab": {
          "base_uri": "https://localhost:8080/"
        },
        "id": "F0fjwoxdTi5d",
        "outputId": "d2a7dd1d-9b15-4886-d72a-581a27e227b0"
      },
      "execution_count": 14,
      "outputs": [
        {
          "output_type": "stream",
          "name": "stdout",
          "text": [
            "The index of 'cat' is: 1\n"
          ]
        }
      ]
    },
    {
      "cell_type": "code",
      "source": [
        "#15. Write a code to create a tuple containing three different fruits and check if \"kiwi\" is in it.\n",
        "my_tuple = ('apple', 'banana', 'cherry')\n",
        "if 'kiwi' in my_tuple:\n",
        "    print(\"'kiwi' is in the tuple.\")\n",
        "else:\n",
        "    print(\"'kiwi' is not in the tuple.\")"
      ],
      "metadata": {
        "colab": {
          "base_uri": "https://localhost:8080/"
        },
        "id": "lcEwhNUETrZJ",
        "outputId": "8b8c6ce2-31b3-46e1-a155-e82640b3fd8b"
      },
      "execution_count": 15,
      "outputs": [
        {
          "output_type": "stream",
          "name": "stdout",
          "text": [
            "'kiwi' is not in the tuple.\n"
          ]
        }
      ]
    },
    {
      "cell_type": "code",
      "source": [
        "#16. Write a code to create a set with the elements 'a', 'b', 'c' and print it.\n",
        "my_set = {'a', 'b', 'c'}\n",
        "print(\"The set is:\", my_set)"
      ],
      "metadata": {
        "colab": {
          "base_uri": "https://localhost:8080/"
        },
        "id": "hcFOx730TzdE",
        "outputId": "db75dee8-834c-46fc-d6b2-14aeef286f53"
      },
      "execution_count": 16,
      "outputs": [
        {
          "output_type": "stream",
          "name": "stdout",
          "text": [
            "The set is: {'b', 'c', 'a'}\n"
          ]
        }
      ]
    },
    {
      "cell_type": "code",
      "source": [
        "#17. Write a code to clear all elements from the set {1, 2, 3, 4, 5}.\n",
        "my_set = {1, 2, 3, 4, 5}\n",
        "my_set.clear()\n",
        "print(\"The cleared set is:\", my_set)"
      ],
      "metadata": {
        "colab": {
          "base_uri": "https://localhost:8080/"
        },
        "id": "657sxQiyT8XQ",
        "outputId": "87c713d2-78f3-401b-8153-56ab6e14c05f"
      },
      "execution_count": 17,
      "outputs": [
        {
          "output_type": "stream",
          "name": "stdout",
          "text": [
            "The cleared set is: set()\n"
          ]
        }
      ]
    },
    {
      "cell_type": "code",
      "source": [
        "#18. Write a code to remove the element 4 from the set {1, 2, 3, 4}.\n",
        "my_set = {1, 2, 3, 4}\n",
        "my_set.remove(4)\n",
        "print(\"The updated set is:\", my_set)"
      ],
      "metadata": {
        "colab": {
          "base_uri": "https://localhost:8080/"
        },
        "id": "ZIRZfsM1UCIU",
        "outputId": "4b4395dd-639c-4472-f493-ee2335343c5f"
      },
      "execution_count": 18,
      "outputs": [
        {
          "output_type": "stream",
          "name": "stdout",
          "text": [
            "The updated set is: {1, 2, 3}\n"
          ]
        }
      ]
    },
    {
      "cell_type": "code",
      "source": [
        "#19. Write a code to find the union of two sets {1, 2, 3} and {3, 4, 5}.\n",
        "set1 = {1, 2, 3}\n",
        "set2 = {3, 4, 5}\n",
        "union_set = set1.union(set2)\n",
        "print(\"The union of the sets is:\", union_set)"
      ],
      "metadata": {
        "colab": {
          "base_uri": "https://localhost:8080/"
        },
        "id": "XCUwDulRUIYy",
        "outputId": "3b28b13d-d1a0-458e-e23a-ae314d6f419e"
      },
      "execution_count": 19,
      "outputs": [
        {
          "output_type": "stream",
          "name": "stdout",
          "text": [
            "The union of the sets is: {1, 2, 3, 4, 5}\n"
          ]
        }
      ]
    },
    {
      "cell_type": "code",
      "source": [
        "#20. Write a code to find the intersection of two sets {1, 2, 3} and {2, 3, 4}.\n",
        "set1 = {1, 2, 3}\n",
        "set2 = {2, 3, 4}\n",
        "intersection_set = set1.intersection(set2)\n",
        "print(\"The intersection of the sets is:\", intersection_set)"
      ],
      "metadata": {
        "colab": {
          "base_uri": "https://localhost:8080/"
        },
        "id": "srVnegb0URuT",
        "outputId": "3654776a-1443-4d81-ca2e-bb79d9668218"
      },
      "execution_count": 20,
      "outputs": [
        {
          "output_type": "stream",
          "name": "stdout",
          "text": [
            "The intersection of the sets is: {2, 3}\n"
          ]
        }
      ]
    },
    {
      "cell_type": "code",
      "source": [
        "#21. Write a code to create a dictionary with the keys \"name\", \"age\", and \"city\", and print it.\n",
        "my_dict = {\"name\": \"Prayag\", \"age\": 21, \"city\": \"Banglore\"}\n",
        "print(\"The dictionary is:\", my_dict)"
      ],
      "metadata": {
        "colab": {
          "base_uri": "https://localhost:8080/"
        },
        "id": "k-c6Pu8RUX3y",
        "outputId": "68551f91-395b-4eee-dc60-bc171414c25a"
      },
      "execution_count": 22,
      "outputs": [
        {
          "output_type": "stream",
          "name": "stdout",
          "text": [
            "The dictionary is: {'name': 'Prayag', 'age': 21, 'city': 'Banglore'}\n"
          ]
        }
      ]
    },
    {
      "cell_type": "code",
      "source": [
        "#22. Write a code to add a new key-value pair \"country\": \"USA\" to the dictionary {'name': 'John', 'age': 25}.\n",
        "my_dict = {'name': 'John', 'age': 25}\n",
        "my_dict['country'] = 'USA'\n",
        "print(\"The updated dictionary is:\", my_dict)"
      ],
      "metadata": {
        "colab": {
          "base_uri": "https://localhost:8080/"
        },
        "id": "48HlRIh8Uv-t",
        "outputId": "a82a8f8d-2b3c-4539-b3e5-5deac8424859"
      },
      "execution_count": 23,
      "outputs": [
        {
          "output_type": "stream",
          "name": "stdout",
          "text": [
            "The updated dictionary is: {'name': 'John', 'age': 25, 'country': 'USA'}\n"
          ]
        }
      ]
    },
    {
      "cell_type": "code",
      "source": [
        "#23. Write a code to access the value associated with the key \"name\" in the dictionary {'name': 'Alice', 'age': 30}.\n",
        "my_dict = {'name': 'Alice', 'age': 30}\n",
        "name_value = my_dict['name']\n",
        "print(\"The value associated with 'name' is:\", name_value)"
      ],
      "metadata": {
        "colab": {
          "base_uri": "https://localhost:8080/"
        },
        "id": "ElXn6IChU9yf",
        "outputId": "551d42fa-8e88-43dd-cf2a-4a3b575956c9"
      },
      "execution_count": 24,
      "outputs": [
        {
          "output_type": "stream",
          "name": "stdout",
          "text": [
            "The value associated with 'name' is: Alice\n"
          ]
        }
      ]
    },
    {
      "cell_type": "code",
      "source": [
        "#24. Write a code to remove the key \"age\" from the dictionary {'name': 'Bob', 'age': 22, 'city': 'New York'}.\n",
        "my_dict = {'name': 'Bob', 'age': 22, 'city': 'New York'}\n",
        "del my_dict['age']\n",
        "print(\"The updated dictionary is:\", my_dict)"
      ],
      "metadata": {
        "colab": {
          "base_uri": "https://localhost:8080/"
        },
        "id": "_erBg9c5VDZE",
        "outputId": "87fe9e1a-6f13-4581-bcf7-13c678a2711c"
      },
      "execution_count": 25,
      "outputs": [
        {
          "output_type": "stream",
          "name": "stdout",
          "text": [
            "The updated dictionary is: {'name': 'Bob', 'city': 'New York'}\n"
          ]
        }
      ]
    },
    {
      "cell_type": "code",
      "source": [
        "#25. Write a code to check if the key \"city\" exists in the dictionary {'name': 'Alice', 'city': 'Paris'}.\n",
        "my_dict = {'name': 'Alice', 'city': 'Paris'}\n",
        "if 'city' in my_dict:\n",
        "    print(\"'city' exists in the dictionary.\")\n",
        "else:\n",
        "    print(\"'city' does not exist in the dictionary.\")"
      ],
      "metadata": {
        "colab": {
          "base_uri": "https://localhost:8080/"
        },
        "id": "jd7MH_G2VKd1",
        "outputId": "f7fc154a-d0bc-402c-e277-967f9c86b49c"
      },
      "execution_count": 26,
      "outputs": [
        {
          "output_type": "stream",
          "name": "stdout",
          "text": [
            "'city' exists in the dictionary.\n"
          ]
        }
      ]
    },
    {
      "cell_type": "code",
      "source": [
        "#26. Write a code to create a list, a tuple, and a dictionary, and print them all.\n",
        "my_list = [10, 20, 30]\n",
        "my_tuple = (\"apple\", \"banana\", \"cherry\")\n",
        "my_dict = {\"name\": \"Prayag\", \"age\": 21, \"city\": \"Bangalore\"}\n",
        "print(\"List:\", my_list)\n",
        "print(\"Tuple:\", my_tuple)\n",
        "print(\"Dictionary:\", my_dict)"
      ],
      "metadata": {
        "colab": {
          "base_uri": "https://localhost:8080/"
        },
        "id": "UG0oQXxJVP4p",
        "outputId": "c84cb93d-838e-405f-f94c-e98cc0d575f0"
      },
      "execution_count": 28,
      "outputs": [
        {
          "output_type": "stream",
          "name": "stdout",
          "text": [
            "List: [10, 20, 30]\n",
            "Tuple: ('apple', 'banana', 'cherry')\n",
            "Dictionary: {'name': 'Prayag', 'age': 21, 'city': 'Bangalore'}\n"
          ]
        }
      ]
    },
    {
      "cell_type": "code",
      "source": [
        "#27. Write a code to create a list of 5 random numbers between 1 and 100, sort it in ascending order, and print the result.(replaced)\n",
        "import random\n",
        "random_numbers = random.sample(range(1, 101), 5)\n",
        "random_numbers.sort()\n",
        "print(\"Sorted random numbers:\", random_numbers)"
      ],
      "metadata": {
        "colab": {
          "base_uri": "https://localhost:8080/"
        },
        "id": "RJ7wjGxbVl6K",
        "outputId": "5330c276-3f8e-45da-f0fd-e271c5a2b3af"
      },
      "execution_count": 29,
      "outputs": [
        {
          "output_type": "stream",
          "name": "stdout",
          "text": [
            "Sorted random numbers: [17, 33, 50, 53, 79]\n"
          ]
        }
      ]
    },
    {
      "cell_type": "code",
      "source": [
        "#28. Write a code to create a list with strings and print the element at the third index.\n",
        "my_list = [\"apple\", \"banana\", \"cherry\", \"date\", \"elderberry\"]\n",
        "third_element = my_list[2]\n",
        "print(\"The element at index 2 is:\", third_element)"
      ],
      "metadata": {
        "colab": {
          "base_uri": "https://localhost:8080/"
        },
        "id": "e2vJH5XTV1NO",
        "outputId": "b9156d2b-b194-43e6-f547-c4e2bd1d6669"
      },
      "execution_count": 30,
      "outputs": [
        {
          "output_type": "stream",
          "name": "stdout",
          "text": [
            "The element at index 2 is: cherry\n"
          ]
        }
      ]
    },
    {
      "cell_type": "code",
      "source": [
        "#29. Write a code to combine two dictionaries into one and print the result.\n",
        "dict1 = {\"a\": 1, \"b\": 2}\n",
        "dict2 = {\"c\": 3, \"d\": 4}\n",
        "combined_dict = {**dict1, **dict2}\n",
        "print(\"Combined dictionary:\", combined_dict)"
      ],
      "metadata": {
        "colab": {
          "base_uri": "https://localhost:8080/"
        },
        "id": "CMCzmETbV7kC",
        "outputId": "35830461-40ac-4553-d695-86f370eb1972"
      },
      "execution_count": 31,
      "outputs": [
        {
          "output_type": "stream",
          "name": "stdout",
          "text": [
            "Combined dictionary: {'a': 1, 'b': 2, 'c': 3, 'd': 4}\n"
          ]
        }
      ]
    },
    {
      "cell_type": "code",
      "source": [
        "#30. Write a code to convert a list of strings into a set.\n",
        "my_list = [\"apple\", \"banana\", \"cherry\", \"apple\", \"banana\"]\n",
        "my_set = set(my_list)\n",
        "print(\"Set from list:\", my_set)"
      ],
      "metadata": {
        "colab": {
          "base_uri": "https://localhost:8080/"
        },
        "id": "4rwj-sAFWB6-",
        "outputId": "64a1ed60-3f48-41ed-f767-c94a5e6b1a0d"
      },
      "execution_count": 32,
      "outputs": [
        {
          "output_type": "stream",
          "name": "stdout",
          "text": [
            "Set from list: {'cherry', 'banana', 'apple'}\n"
          ]
        }
      ]
    }
  ]
}